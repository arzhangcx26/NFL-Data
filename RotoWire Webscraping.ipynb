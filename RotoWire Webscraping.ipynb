{
 "cells": [
  {
   "cell_type": "code",
   "execution_count": 605,
   "id": "1319d693-b6ea-42a3-949e-b98f84d8f5bf",
   "metadata": {},
   "outputs": [],
   "source": [
    "import pandas as pd\n",
    "#import requests\n",
    "#from bs4 import BeautifulSoup as bs\n",
    "import selenium\n",
    "import ssl\n",
    "import urllib3\n",
    "from datetime import datetime\n",
    "import matplotlib.pyplot as plt\n",
    "\n",
    "import numpy as np\n",
    "\n",
    "\n",
    "from selenium import webdriver\n",
    "from selenium.webdriver.common.by import By\n",
    "from selenium.webdriver.support import expected_conditions as EC\n",
    "from selenium.webdriver.support.ui import WebDriverWait\n",
    "from selenium.webdriver.common.keys import Keys\n",
    "\n",
    "from selenium.webdriver.common.action_chains import ActionChains\n",
    "\n",
    "from selenium.webdriver.support.ui import Select\n",
    "import time"
   ]
  },
  {
   "cell_type": "markdown",
   "id": "7dbd3095-9040-4b9b-a4f8-f41152fbc810",
   "metadata": {},
   "source": [
    "## Functions"
   ]
  },
  {
   "cell_type": "code",
   "execution_count": 259,
   "id": "2354e284-41aa-44da-bd51-6cd96de58a44",
   "metadata": {},
   "outputs": [],
   "source": [
    "def start_driver(url):\n",
    "    driver = webdriver.Edge()\n",
    "    driver.get(url)\n",
    "    \n",
    "    # Wait until the page is fully loaded\n",
    "    wait = WebDriverWait(driver, 100)  # Adjust the timeout value as needed\n",
    "    wait.until(EC.presence_of_element_located((By.TAG_NAME, 'body')))\n",
    "    return driver"
   ]
  },
  {
   "cell_type": "code",
   "execution_count": 267,
   "id": "a8650df0-d19b-4615-a509-d97a75f57bac",
   "metadata": {},
   "outputs": [],
   "source": [
    "def player_search(driver, player_str):\n",
    "    # Search for Player\n",
    "    search_bar_xpath = '//input[@id=\"search-for-players\"]'\n",
    "    search_bar_element = driver.find_element(By.XPATH, search_bar_xpath)\n",
    "    search_bar_element.send_keys(player_str)\n",
    "    search_bar_element.send_keys(Keys.RETURN)\n",
    "    wait = WebDriverWait(driver, 100)\n",
    "    wait.until(EC.presence_of_element_located((By.TAG_NAME, 'body')))"
   ]
  },
  {
   "cell_type": "code",
   "execution_count": 274,
   "id": "80c52277-fb50-47f3-96c1-c23e7c6143c4",
   "metadata": {},
   "outputs": [],
   "source": [
    "def change_game_log_year(driver, year):\n",
    "    # Change Year of Game Log\n",
    "    selected_tab_xpath = '//div[@class=\"filter-tab is-selected\"]'\n",
    "    selected_tab_element = driver.find_element(By.XPATH, selected_tab_xpath)\n",
    "    if selected_tab_element.text != str(year):  \n",
    "        year_tabs_xpath = '//div[@class=\"filter-tab\"]'\n",
    "        year_tabs_elements = driver.find_elements(By.XPATH, year_tabs_xpath)\n",
    "        chosen_year_xpath = f'//div[@data-name=\"{str(year)}\"]'\n",
    "        for element in year_tabs_elements:\n",
    "            if element.text == str(year):\n",
    "                selected_tab_element = element\n",
    "                break\n",
    "                \n",
    "    driver.execute_script(\"arguments[0].scrollIntoView();\", selected_tab_element)\n",
    "    selected_tab_element.click()\n",
    "    #search_bar_element.send_keys(player_str)\n",
    "    #search_bar_element.send_keys(Keys.RETURN)\n",
    "    #wait.until(EC.presence_of_element_located((By.TAG_NAME, 'body')))"
   ]
  },
  {
   "cell_type": "code",
   "execution_count": 680,
   "id": "b777cba6-fe58-4c13-ab27-55a6f7d30460",
   "metadata": {},
   "outputs": [],
   "source": [
    "def get_game_log_table(driver):\n",
    "    # Find Game Log Table\n",
    "    table_xpath = f'//div[@id=\"gamelog-{str(year)}-stats\"]'\n",
    "    game_log_element = driver.find_element(By.XPATH, table_xpath)\n",
    "    table_xpath = './/div[@role=\"grid\"]'\n",
    "    wait = WebDriverWait(driver, 100)  # Adjust the timeout value as needed\n",
    "    wait.until(EC.presence_of_element_located((By.XPATH, table_xpath)))\n",
    "    game_log_element = game_log_element.find_element(By.XPATH, table_xpath)\n",
    "    return game_log_element"
   ]
  },
  {
   "cell_type": "code",
   "execution_count": 603,
   "id": "4180d192-6e00-4354-af7d-3022214b950f",
   "metadata": {},
   "outputs": [],
   "source": [
    "def scroll_left(game_log_element):\n",
    "    scrollable_xpath = './/div[@role=\"scrollbar\"]'\n",
    "    scrollable_element = game_log_element.find_element(By.XPATH, scrollable_xpath)\n",
    "    \n",
    "    # Scroll the element to the left using JavaScript\n",
    "    #driver.execute_script(\"arguments[0].scrollIntoView();\", scrollable_element)\n",
    "    driver.execute_script(\"arguments[0].scrollLeft -= 500;\", scrollable_element)\n",
    "\n",
    "def scroll_right(game_log_element):\n",
    "    scrollable_xpath = './/div[@role=\"scrollbar\"]'\n",
    "    scrollable_element = game_log_element.find_element(By.XPATH, scrollable_xpath)\n",
    "    \n",
    "    # Scroll the element to the right using JavaScript\n",
    "    #driver.execute_script(\"arguments[0].scrollIntoView();\", scrollable_element)\n",
    "    driver.execute_script(\"arguments[0].scrollLeft += 500;\", scrollable_element)"
   ]
  },
  {
   "cell_type": "code",
   "execution_count": 831,
   "id": "125ec454-9e34-4d46-9d2a-52f4ff7fd982",
   "metadata": {},
   "outputs": [],
   "source": [
    "def get_game_log_header(game_log_element):\n",
    "    #header_xpath = './/div[@class=\"webix_ss_center\"]'\n",
    "    #header_element = game_log_element.find_element(By.XPATH, header_xpath)\n",
    "    header_rows = game_log_element.find_elements(By.XPATH, './/tr[@section=\"header\" and @role=\"row\"]')\n",
    "    header_cells_top = header_rows[2].find_elements(By.XPATH,'.//td[@column]')\n",
    "    header_cells_bottom = header_rows[3].find_elements(By.XPATH,'.//td[@column]')\n",
    "\n",
    "    header_top_list = []\n",
    "    header_top_col_nums = []\n",
    "    for cell in header_cells_top:\n",
    "        if len(cell.text.strip()) > 0:\n",
    "            header_top_list.append(cell.text.strip())\n",
    "            header_top_col_nums.append(int(cell.get_attribute(\"column\")))\n",
    "\n",
    "    \n",
    "    header_top_df = pd.DataFrame(dict(col_nums=header_top_col_nums, col_names=header_top_list)).set_index('col_nums')\n",
    "    header_top_df = header_top_df[::-1]\n",
    "    #display(header_top_df)\n",
    "    \n",
    "    header_list = []\n",
    "    header_col_nums = []\n",
    "    header_number = header_top_col_nums[-1]\n",
    "    for cell in header_cells_bottom[::-1]:\n",
    "        i = int(cell.get_attribute(\"column\"))\n",
    "        #print(i)\n",
    "        if len(cell.text.strip()) > 0:\n",
    "            if i in header_top_col_nums:\n",
    "                header_number = i\n",
    "                #print(header_number)\n",
    "            new_header = (header_top_df.loc[header_number][0], cell.text.strip())\n",
    "            #print(new_header)\n",
    "            header_list.append(new_header)\n",
    "            header_col_nums.append(i)\n",
    "\n",
    "    first_two_headers = [('Games', 'Week'), ('Games', 'Opponent')]\n",
    "    \n",
    "    header_list = first_two_headers + header_list[::-1]\n",
    "    header_col_nums = [0, 1] + header_col_nums[::-1]\n",
    "    #print(header_list)\n",
    "    #print(header_col_nums)\n",
    "    \n",
    "    return pd.DataFrame(dict(col_num = header_col_nums, col_names = header_list))"
   ]
  },
  {
   "cell_type": "code",
   "execution_count": 829,
   "id": "400c745b-b467-424c-8330-e3c075890994",
   "metadata": {},
   "outputs": [],
   "source": [
    "def get_dnp_weeks(game_log_element):\n",
    "    # Get the index of the row with 'BYE'\n",
    "    game_columns = game_log_element.find_element(By.XPATH, './/div[@column=\"1\"]').text.split('\\n')\n",
    "    #print(game_columns)\n",
    "    bye_index = game_columns.index('BYE')\n",
    "    # Get index of other weeks where they didn't play\n",
    "    snap_column = game_log_element.find_element(By.XPATH, './/div[@column=\"4\"]').text.split('\\n')\n",
    "    snap_column.insert(bye_index, 'BYE')\n",
    "    #print(snap_column)\n",
    "    dnp_weeks = [i for i, x in enumerate(snap_column) if x == 'DNP']\n",
    "    dnp_weeks.append(bye_index)\n",
    "    dnp_weeks.sort()\n",
    "    #print(dnp_weeks)\n",
    "    return dnp_weeks"
   ]
  },
  {
   "cell_type": "code",
   "execution_count": 825,
   "id": "8781f97e-3865-428e-b6bb-06a6aeb0a4cd",
   "metadata": {},
   "outputs": [],
   "source": [
    "def get_game_log_data(game_log_element, col_names, year, dnp_weeks):\n",
    "    col_names = col_names.set_index('col_num')\n",
    "    bye_index = None\n",
    "    columns_xpath = './/div[@column]'\n",
    "    columns_elements = game_log_element.find_elements(By.XPATH, columns_xpath)\n",
    "    \n",
    "    \n",
    "    #cells_xpath = './/div[@role=\"gridcell\"]'\n",
    "    df = pd.DataFrame()\n",
    "    \n",
    "    \n",
    "    for column in columns_elements:\n",
    "        #column_list = []\n",
    "        #gridcell_elements = game_log_element.find_elements(By.XPATH, cells_xpath)\n",
    "        #for cell in gridcell_elements:\n",
    "        #    column_list.append(cell.text)\n",
    "        # Get text for column\n",
    "        i = int(column.get_attribute(\"column\"))\n",
    "        tmp = column.text\n",
    "        tmp = tmp.split('\\n')\n",
    "        tmp = [x for x in tmp if x != 'DNP']\n",
    "\n",
    "\n",
    "        # Delete on DNP rows:\n",
    "        if i >= 1:\n",
    "            if len(tmp) > len(df):\n",
    "                for index in dnp_weeks[::-1]:\n",
    "                    del tmp[int(index)]\n",
    "\n",
    "        # Get rid of bye week row if column includes it\n",
    "        #if bye_index:\n",
    "        #    if len(tmp) > len(df):\n",
    "        #        if len(tmp) != 0:\n",
    "        #             tmp = tmp.drop(bye_index)\n",
    "\n",
    "        # Add column to main dataframe\n",
    "        if i == 0:\n",
    "            df[('Games','Year')] = [year] * len(tmp)\n",
    "        df[col_names.loc[i][0]] = pd.Series(tmp)\n",
    "\n",
    "        # Remove bye row and find bye index\n",
    "        #if i == 1:\n",
    "        #    rows_with_bye = df[df[col_names[i]].str.contains('BYE')]\n",
    "\n",
    "            # Get the index of the row with 'BYE'\n",
    "        #    bye_index = rows_with_bye.index.tolist()[0]\n",
    "\n",
    "            # Delete BYE row\n",
    "        #    df = df[~df[col_names[i]].str.contains('BYE')].reset_index(drop = True)\n",
    "        if i == 1:\n",
    "            df = df.drop(dnp_weeks).reset_index(drop=True)\n",
    "\n",
    "    df.columns = pd.MultiIndex.from_tuples(df.columns)\n",
    "    return df\n",
    "\n"
   ]
  },
  {
   "cell_type": "markdown",
   "id": "6de88f3d-335c-48da-932c-3b0be094ab51",
   "metadata": {},
   "source": [
    "## Get Data"
   ]
  },
  {
   "cell_type": "code",
   "execution_count": 926,
   "id": "0c16ccb3-ff1f-4024-b166-eb0cda01745a",
   "metadata": {},
   "outputs": [],
   "source": [
    "rotowire_url = f'https://www.rotowire.com/'\n",
    "player_str = 'Dalton Kincaid'\n",
    "\n",
    "driver = start_driver(rotowire_url)\n",
    "player_search(driver, player_str)"
   ]
  },
  {
   "cell_type": "code",
   "execution_count": 927,
   "id": "75d8a1c5-4e29-4b1e-ab02-ea7cf6c49673",
   "metadata": {},
   "outputs": [
    {
     "name": "stdout",
     "output_type": "stream",
     "text": [
      "2023\n",
      "2024\n"
     ]
    },
    {
     "ename": "TypeError",
     "evalue": "unhashable type: 'list'",
     "output_type": "error",
     "traceback": [
      "\u001b[1;31m---------------------------------------------------------------------------\u001b[0m",
      "\u001b[1;31mTypeError\u001b[0m                                 Traceback (most recent call last)",
      "Cell \u001b[1;32mIn[927], line 27\u001b[0m\n\u001b[0;32m     25\u001b[0m ypc_col \u001b[38;5;241m=\u001b[39m all_games_df[(\u001b[38;5;124m'\u001b[39m\u001b[38;5;124mRushing\u001b[39m\u001b[38;5;124m'\u001b[39m, \u001b[38;5;124m'\u001b[39m\u001b[38;5;124mYDS\u001b[39m\u001b[38;5;124m'\u001b[39m)]\u001b[38;5;241m.\u001b[39mastype(\u001b[38;5;28mint\u001b[39m) \u001b[38;5;241m/\u001b[39m all_games_df[(\u001b[38;5;124m'\u001b[39m\u001b[38;5;124mRushing\u001b[39m\u001b[38;5;124m'\u001b[39m, \u001b[38;5;124m'\u001b[39m\u001b[38;5;124mATT\u001b[39m\u001b[38;5;124m'\u001b[39m)]\u001b[38;5;241m.\u001b[39mastype(\u001b[38;5;28mint\u001b[39m)\n\u001b[0;32m     26\u001b[0m ypc_col_index \u001b[38;5;241m=\u001b[39m all_games_df\u001b[38;5;241m.\u001b[39mcolumns\u001b[38;5;241m.\u001b[39mget_loc((\u001b[38;5;124m'\u001b[39m\u001b[38;5;124mRushing\u001b[39m\u001b[38;5;124m'\u001b[39m, \u001b[38;5;124m'\u001b[39m\u001b[38;5;124mATT\u001b[39m\u001b[38;5;124m'\u001b[39m)) \u001b[38;5;241m+\u001b[39m \u001b[38;5;241m1\u001b[39m\n\u001b[1;32m---> 27\u001b[0m \u001b[43mall_games_df\u001b[49m\u001b[38;5;241;43m.\u001b[39;49m\u001b[43minsert\u001b[49m\u001b[43m(\u001b[49m\u001b[43mypc_col_index\u001b[49m\u001b[43m,\u001b[49m\u001b[43m \u001b[49m\u001b[43m[\u001b[49m\u001b[43m(\u001b[49m\u001b[38;5;124;43m'\u001b[39;49m\u001b[38;5;124;43mRushing\u001b[39;49m\u001b[38;5;124;43m'\u001b[39;49m\u001b[43m,\u001b[49m\u001b[43m \u001b[49m\u001b[38;5;124;43m'\u001b[39;49m\u001b[38;5;124;43mYPC\u001b[39;49m\u001b[38;5;124;43m'\u001b[39;49m\u001b[43m)\u001b[49m\u001b[43m]\u001b[49m\u001b[43m,\u001b[49m\u001b[43m \u001b[49m\u001b[43mypc_col\u001b[49m\u001b[43m)\u001b[49m\n",
      "File \u001b[1;32m~\\AppData\\Local\\anaconda3\\envs\\transports\\lib\\site-packages\\pandas\\core\\frame.py:4770\u001b[0m, in \u001b[0;36mDataFrame.insert\u001b[1;34m(self, loc, column, value, allow_duplicates)\u001b[0m\n\u001b[0;32m   4765\u001b[0m \u001b[38;5;28;01mif\u001b[39;00m allow_duplicates \u001b[38;5;129;01mand\u001b[39;00m \u001b[38;5;129;01mnot\u001b[39;00m \u001b[38;5;28mself\u001b[39m\u001b[38;5;241m.\u001b[39mflags\u001b[38;5;241m.\u001b[39mallows_duplicate_labels:\n\u001b[0;32m   4766\u001b[0m     \u001b[38;5;28;01mraise\u001b[39;00m \u001b[38;5;167;01mValueError\u001b[39;00m(\n\u001b[0;32m   4767\u001b[0m         \u001b[38;5;124m\"\u001b[39m\u001b[38;5;124mCannot specify \u001b[39m\u001b[38;5;124m'\u001b[39m\u001b[38;5;124mallow_duplicates=True\u001b[39m\u001b[38;5;124m'\u001b[39m\u001b[38;5;124m when \u001b[39m\u001b[38;5;124m\"\u001b[39m\n\u001b[0;32m   4768\u001b[0m         \u001b[38;5;124m\"\u001b[39m\u001b[38;5;124m'\u001b[39m\u001b[38;5;124mself.flags.allows_duplicate_labels\u001b[39m\u001b[38;5;124m'\u001b[39m\u001b[38;5;124m is False.\u001b[39m\u001b[38;5;124m\"\u001b[39m\n\u001b[0;32m   4769\u001b[0m     )\n\u001b[1;32m-> 4770\u001b[0m \u001b[38;5;28;01mif\u001b[39;00m \u001b[38;5;129;01mnot\u001b[39;00m allow_duplicates \u001b[38;5;129;01mand\u001b[39;00m \u001b[43mcolumn\u001b[49m\u001b[43m \u001b[49m\u001b[38;5;129;43;01min\u001b[39;49;00m\u001b[43m \u001b[49m\u001b[38;5;28;43mself\u001b[39;49m\u001b[38;5;241;43m.\u001b[39;49m\u001b[43mcolumns\u001b[49m:\n\u001b[0;32m   4771\u001b[0m     \u001b[38;5;66;03m# Should this be a different kind of error??\u001b[39;00m\n\u001b[0;32m   4772\u001b[0m     \u001b[38;5;28;01mraise\u001b[39;00m \u001b[38;5;167;01mValueError\u001b[39;00m(\u001b[38;5;124mf\u001b[39m\u001b[38;5;124m\"\u001b[39m\u001b[38;5;124mcannot insert \u001b[39m\u001b[38;5;132;01m{\u001b[39;00mcolumn\u001b[38;5;132;01m}\u001b[39;00m\u001b[38;5;124m, already exists\u001b[39m\u001b[38;5;124m\"\u001b[39m)\n\u001b[0;32m   4773\u001b[0m \u001b[38;5;28;01mif\u001b[39;00m \u001b[38;5;129;01mnot\u001b[39;00m \u001b[38;5;28misinstance\u001b[39m(loc, \u001b[38;5;28mint\u001b[39m):\n",
      "File \u001b[1;32m~\\AppData\\Local\\anaconda3\\envs\\transports\\lib\\site-packages\\pandas\\core\\indexes\\multi.py:1218\u001b[0m, in \u001b[0;36mMultiIndex.__contains__\u001b[1;34m(self, key)\u001b[0m\n\u001b[0;32m   1216\u001b[0m \u001b[38;5;129m@doc\u001b[39m(Index\u001b[38;5;241m.\u001b[39m\u001b[38;5;21m__contains__\u001b[39m)\n\u001b[0;32m   1217\u001b[0m \u001b[38;5;28;01mdef\u001b[39;00m \u001b[38;5;21m__contains__\u001b[39m(\u001b[38;5;28mself\u001b[39m, key: Any) \u001b[38;5;241m-\u001b[39m\u001b[38;5;241m>\u001b[39m \u001b[38;5;28mbool\u001b[39m:\n\u001b[1;32m-> 1218\u001b[0m     \u001b[38;5;28;43mhash\u001b[39;49m\u001b[43m(\u001b[49m\u001b[43mkey\u001b[49m\u001b[43m)\u001b[49m\n\u001b[0;32m   1219\u001b[0m     \u001b[38;5;28;01mtry\u001b[39;00m:\n\u001b[0;32m   1220\u001b[0m         \u001b[38;5;28mself\u001b[39m\u001b[38;5;241m.\u001b[39mget_loc(key)\n",
      "\u001b[1;31mTypeError\u001b[0m: unhashable type: 'list'"
     ]
    }
   ],
   "source": [
    "all_games_df = pd.DataFrame()\n",
    "for year in [2023,2024]:\n",
    "    print(year)\n",
    "    change_game_log_year(driver, year)\n",
    "    game_log_element = get_game_log_table(driver)\n",
    "    time.sleep(1)\n",
    "    scroll_left(game_log_element)\n",
    "    time.sleep(1)\n",
    "    headers = get_game_log_header(game_log_element)\n",
    "    dnp_weeks = get_dnp_weeks(game_log_element)\n",
    "    game_log_df = get_game_log_data(game_log_element, headers, year, dnp_weeks)\n",
    "    time.sleep(1)\n",
    "    scroll_right(game_log_element)\n",
    "    time.sleep(1)\n",
    "    headers_2 = get_game_log_header(game_log_element)\n",
    "    game_log_df_2 = get_game_log_data(game_log_element, headers_2, year, dnp_weeks)\n",
    "    game_log_df_2 = game_log_df_2.drop(list(set(game_log_df.columns).intersection(set(game_log_df_2.columns))), axis = 1)\n",
    "    game_log_df_combined = pd.concat([game_log_df, game_log_df_2], axis=1).fillna(0)\n",
    "    game_log_df_combined[('Games','Year')] = year\n",
    "    all_games_df = pd.concat([all_games_df, game_log_df_combined]).reset_index(drop = True)\n",
    "\n",
    "driver.close()\n",
    "\n",
    "\n",
    "ypc_col = all_games_df[('Rushing', 'YDS')].astype(int) / all_games_df[('Rushing', 'ATT')].astype(int)\n",
    "ypc_col_index = all_games_df.columns.get_loc(('Rushing', 'ATT')) + 1\n",
    "all_games_df.insert(ypc_col_index, [('Rushing', 'YPC')], ypc_col)"
   ]
  },
  {
   "cell_type": "code",
   "execution_count": 931,
   "id": "f8500a02-f804-47ed-b24c-b454b970533d",
   "metadata": {
    "scrolled": true
   },
   "outputs": [],
   "source": [
    "last_game_played = [2024, 2]\n",
    "cutoff_index = all_games_df[(all_games_df.Games.Year == last_game_played[0]) & (all_games_df.Games.Week == str(last_game_played[1]))].index[0]\n",
    "past_games_df = all_games_df[:cutoff_index+1]"
   ]
  },
  {
   "cell_type": "code",
   "execution_count": 955,
   "id": "83cc8265-a7c5-44a0-b5a4-5797f1f88ece",
   "metadata": {},
   "outputs": [],
   "source": [
    "playoffs_bool = (past_games_df.Games.Week != 'WC') & (past_games_df.Games.Week != 'DIV') & (past_games_df.Games.Week != 'CC') & (past_games_df.Games.Week != 'SB')\n",
    "\n",
    "reg_szn_games_df = past_games_df[playoffs_bool].reset_index(drop = True)"
   ]
  },
  {
   "cell_type": "markdown",
   "id": "4ffe91ff-e7bd-4d82-945d-242bb25ba36f",
   "metadata": {},
   "source": [
    "## Analysis"
   ]
  },
  {
   "cell_type": "code",
   "execution_count": 960,
   "id": "3c98c1c5-8cfd-43ae-9453-4294d4e83c9d",
   "metadata": {},
   "outputs": [
    {
     "data": {
      "image/png": "[encoded data removed]",
      "text/plain": [
       "<Figure size 640x480 with 1 Axes>"
      ]
     },
     "metadata": {},
     "output_type": "display_data"
    }
   ],
   "source": [
    "selected_column = ('Routes Run', 'Rts')\n",
    "\n",
    "def get_moving_avg(series, window):\n",
    "    return series.rolling(window).mean()\n",
    "\n",
    "moving_avg = get_moving_avg(reg_szn_games_df[selected_column], 8)\n",
    "\n",
    "plt.bar(reg_szn_games_df.index, reg_szn_games_df[selected_column].astype(float))\n",
    "plt.plot(reg_szn_games_df.index, moving_avg, color = 'red')\n",
    "plt.title(selected_column[1])\n",
    "plt.show()"
   ]
  }
 ],
 "metadata": {
  "kernelspec": {
   "display_name": "Python 3 (ipykernel)",
   "language": "python",
   "name": "python3"
  },
  "language_info": {
   "codemirror_mode": {
    "name": "ipython",
    "version": 3
   },
   "file_extension": ".py",
   "mimetype": "text/x-python",
   "name": "python",
   "nbconvert_exporter": "python",
   "pygments_lexer": "ipython3",
   "version": "3.10.12"
  }
 },
 "nbformat": 4,
 "nbformat_minor": 5
}
